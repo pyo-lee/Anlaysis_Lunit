{
 "cells": [
  {
   "cell_type": "code",
   "execution_count": 1,
   "metadata": {},
   "outputs": [],
   "source": [
    "import json\n",
    "import numpy as np\n",
    "import os\n",
    "import cv2"
   ]
  },
  {
   "cell_type": "code",
   "execution_count": 2,
   "metadata": {},
   "outputs": [],
   "source": [
    "def CreateFolder(directory):\n",
    "    if not os.path.exists(directory):\n",
    "        os.makedirs(directory)"
   ]
  },
  {
   "cell_type": "code",
   "execution_count": 3,
   "metadata": {},
   "outputs": [],
   "source": [
    "def cutoff(data_np_cutoff, cutoff):\n",
    "    \n",
    "    data_np_cutoff[data_np_cutoff>cutoff]=255\n",
    "    data_np_cutoff[data_np_cutoff<cutoff]=0\n",
    "    \n",
    "    return data_np_cutoff\n",
    "\n"
   ]
  },
  {
   "cell_type": "code",
   "execution_count": 5,
   "metadata": {},
   "outputs": [],
   "source": [
    "path = 'D:/lunit/01_data_analysis/data/ai_json(all files)'\n",
    "ai_all_file = os.listdir(path)\n",
    "labels = []\n",
    "label_tmp=[]\n",
    "\n",
    "for i in range(len(ai_all_file)):\n",
    "# for i in range(1):\n",
    "#     i=5\n",
    "    ai_json_file = os.path.join(path, ai_all_file[i],'json_output')\n",
    "    ai_all_file_name = os.listdir(ai_json_file)\n",
    "    \n",
    "    for k in range(len(ai_all_file_name)):\n",
    "#     for k in range(10):   \n",
    "#         k=1\n",
    "        review_path = 'D:/lunit/01_data_analysis/data/review_result_20200705'\n",
    "\n",
    "\n",
    "        if ai_all_file[i] == 'brmh_healthcheck':\n",
    "            review_result = 'BRMH-A2'\n",
    "        elif ai_all_file[i] == 'brmh_respiratory':\n",
    "            review_result = 'BRMH-A1'\n",
    "        elif ai_all_file[i] == 'gugh_healthcheck':\n",
    "            review_result = 'GUGH-A2'\n",
    "        elif ai_all_file[i] == 'gugh_respiratory':\n",
    "            review_result = 'GUGH-A1'\n",
    "        elif ai_all_file[i] == 'kyuh_healthcheck':\n",
    "            review_result = 'KYUH-A2'\n",
    "        elif ai_all_file[i] == 'kyuh_respiratory':\n",
    "            review_result = 'KYUH-A1'\n",
    "        \n",
    "        if 'A1' in review_result:\n",
    "            review_json_path = os.path.join(review_path, review_result,review_result[:4],'respiratory')\n",
    "        elif 'A2' in review_result:\n",
    "            review_json_path = os.path.join(review_path, review_result,review_result[:4],'healthcheck')\n",
    "\n",
    "        name = ai_all_file_name[k][:-5]\n",
    "        if os.path.isfile(ai_json_file+'/'+name+\".json\") and os.path.isfile(review_json_path+'/'+name+\".dcm.json\"):\n",
    "            with open(ai_json_file+'/'+name+\".json\", \"r\") as st_json:\n",
    "                file_ai = json.load(st_json)\n",
    "                data_ai = file_ai['pos_map']\n",
    "                data_np = np.array(data_ai)\n",
    "                \n",
    "            # AI image generate\n",
    "            data_np_cutoff = data_np.copy()\n",
    "            img = cutoff(data_np_cutoff, 0.15)\n",
    "            img_path = os.path.join('D:/lunit/01_data_analysis/data/img','ai_json(all_files)',ai_all_file[i],name)\n",
    "            CreateFolder(img_path)\n",
    "            cv2.imwrite(img_path+'/'+name+'_pos_map.png', data_np)\n",
    "            cv2.imwrite(img_path+'/'+name+'_cutoff.png',img)\n",
    "            \n",
    "        else:\n",
    "            print(ai_json_file+'/'+name+\".json\", os.path.isfile(ai_json_file+'/'+name+\".json\"))\n",
    "            print(review_json_path+'/'+name+\".dcm.json\", os.path.isfile(review_json_path+'/'+name+\".dcm.json\"))\n",
    "            \n",
    "    labels.append(label_tmp)\n"
   ]
  }
 ],
 "metadata": {
  "kernelspec": {
   "display_name": "Python 3",
   "language": "python",
   "name": "python3"
  },
  "language_info": {
   "codemirror_mode": {
    "name": "ipython",
    "version": 3
   },
   "file_extension": ".py",
   "mimetype": "text/x-python",
   "name": "python",
   "nbconvert_exporter": "python",
   "pygments_lexer": "ipython3",
   "version": "3.6.10"
  }
 },
 "nbformat": 4,
 "nbformat_minor": 4
}
