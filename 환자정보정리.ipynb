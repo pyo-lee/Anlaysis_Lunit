{
 "cells": [
  {
   "cell_type": "code",
   "execution_count": 2,
   "metadata": {},
   "outputs": [],
   "source": [
    "import numpy as np\n",
    "import json\n",
    "from func import *\n",
    "import pandas as pd\n",
    "import os\n",
    "import glob"
   ]
  },
  {
   "cell_type": "code",
   "execution_count": null,
   "metadata": {},
   "outputs": [],
   "source": [
    "path = 'D:/lunit/data/ai_json(all files)'\n",
    "ai_all_file = os.listdir(path)\n",
    "labels = []\n",
    "label_tmp=[]\n",
    "\n",
    "for i in range(len(ai_all_file)):\n",
    "#     if i == 4:\n",
    "#         break\n",
    "        \n",
    "    ai_json_file = os.path.join(path, ai_all_file[i],'json_output')\n",
    "    ai_all_file_name = os.listdir(ai_json_file)\n",
    "    \n",
    "    df = pd.DataFrame(columns = ['filename', 'AI_Abnormal', 'GT Atelectasis','GT Bronchiectasis','GT Cardiomegaly','GT Consolidation','GT ETC','GT ILD','GT Invisible Nodule',\n",
    "                                 'GT Mediastinal Lesion','GT Nodule / Mass','GT Pericardial Effusion','GT Pleural effusion','GT Pneumothorax'])\n",
    "    \n",
    "    for k in range(len(ai_all_file_name)):\n",
    "#         if k == 10:\n",
    "#             break\n",
    "        review_path = 'D:/lunit/data/review_result_20201012'\n",
    "\n",
    "\n",
    "        if ai_all_file[i] == 'brmh_healthcheck':\n",
    "            review_result = 'BRMH-A2'\n",
    "        elif ai_all_file[i] == 'brmh_respiratory':\n",
    "            review_result = 'BRMH-A1'\n",
    "        elif ai_all_file[i] == 'gugh_healthcheck':\n",
    "            review_result = 'GUGH-A2'\n",
    "        elif ai_all_file[i] == 'gugh_respiratory':\n",
    "            review_result = 'GUGH-A1'\n",
    "        elif ai_all_file[i] == 'kyuh_healthcheck':\n",
    "            review_result = 'KYUH-A2'\n",
    "        elif ai_all_file[i] == 'kyuh_respiratory':\n",
    "            review_result = 'KYUH-A1'\n",
    "        \n",
    "        if 'A1' in review_result:\n",
    "            review_json_path = os.path.join(review_path, review_result,review_result[:4],'respiratory')\n",
    "        elif 'A2' in review_result:\n",
    "            review_json_path = os.path.join(review_path, review_result,review_result[:4],'healthcheck')\n",
    "\n",
    "        name = ai_all_file_name[k][:-5]\n",
    "        if os.path.isfile(ai_json_file+'/'+name+\".json\") and os.path.isfile(review_json_path+'/'+name+\".dcm.json\"):\n",
    "            with open(ai_json_file+'/'+name+\".json\", \"r\") as st_json:\n",
    "                file_ai = json.load(st_json)\n",
    "                prob_ai = file_ai['pos_prob']\n",
    "                \n",
    "#             data_np.shape\n",
    "            with open(review_json_path+'/'+name+\".dcm.json\", \"r\") as st_json:\n",
    "                file_gs = json.load(st_json)\n",
    "                keys_gs = list(file_gs.keys())\n",
    "                \n",
    "                if 'abnormal_finding' in keys_gs:\n",
    "#                     print(len(file_gs['abnormal_finding']))\n",
    "                    if file_gs['abnormal_finding'] == [] :\n",
    "                        label = 'normal'\n",
    "\n",
    "                    else:\n",
    "                        Atelectasis,Bronchiectasis,Cardiomegaly,Consolidation,ETC,ILD,Invisible_Nodule,Mediastinal_Lesion,Nodule_Mass,Pericardial_Effusion,Pleural_effusion,Pneumothorax = 0,0,0,0,0,0,0,0,0,0,0,0\n",
    "                        for j in range(len(file_gs['abnormal_finding'])):\n",
    "                            roi_gs = file_gs['abnormal_finding'][j]['contour_list']\n",
    "                            keys = list(roi_gs.keys())\n",
    "#                             print(keys)\n",
    "                            for m in range(len(keys)):\n",
    "                                roi_gs = file_gs['abnormal_finding'][j]['contour_list']\n",
    "#                                 keys = list(roi_gs.keys())\n",
    "                            \n",
    "#                                 print(len(keys),m)\n",
    "#                                 roi_gs = roi_gs[keys[m]]\n",
    "                                label = file_gs['abnormal_finding'][j]['label_text']\n",
    "#                                 print(label)\n",
    "                                if label == 'Atelectasis':\n",
    "                                    Atelectasis=1\n",
    "                                elif label == 'Bronchiectasis':\n",
    "                                    Bronchiectasis=1\n",
    "                                elif label == 'Cardiomegaly':\n",
    "                                    Cardiomegaly=1\n",
    "                                elif label == 'Consolidation':\n",
    "                                    Consolidation=1\n",
    "                                elif label == 'ETC':\n",
    "                                    ETC=1\n",
    "                                elif label == 'ILD':\n",
    "                                    ILD=1\n",
    "                                elif label == 'Invisible Nodule':\n",
    "                                    Invisible_Nodule=1\n",
    "                                elif label == 'Mediastinal Lesion':\n",
    "                                    Mediastinal_Lesion=1\n",
    "                                elif label == 'Nodule / Mass':\n",
    "                                    Nodule_Mass=1\n",
    "                                elif label == 'Pericardial Effusion':\n",
    "                                    Pericardial_Effusion=1\n",
    "                                elif label == 'Pleural effusion':\n",
    "                                    Pleural_effusion=1\n",
    "                                elif label == 'Pneumothorax':\n",
    "                                    Pneumothorax=1\n",
    "                                else:\n",
    "                                    print('Label error : ', review_json_path+'/'+name+\".dcm.json\")\n",
    "\n",
    "    \n",
    "        \n",
    "        \n",
    "\n",
    "                else:\n",
    "                    label = 'normal'\n",
    "\n",
    "            \n",
    "        else:\n",
    "            print(ai_json_file+'/'+name+\".json\", os.path.isfile(ai_json_file+'/'+name+\".json\"))\n",
    "            print(review_json_path+'/'+name+\".dcm.json\", os.path.isfile(review_json_path+'/'+name+\".dcm.json\"))\n",
    "            \n",
    "        \n",
    "        print(k)\n",
    "        if label == 'normal':\n",
    "            df.loc[k] = [name+\".dcm\", prob_ai, 0,0,0,0,0,0,0,0,0,0,0,0]\n",
    "            \n",
    "        else:\n",
    "            df.loc[k] = [name+\".dcm\", prob_ai, Atelectasis,Bronchiectasis,Cardiomegaly,Consolidation,ETC,ILD,Invisible_Nodule,Mediastinal_Lesion,Nodule_Mass,Pericardial_Effusion,Pleural_effusion,Pneumothorax]\n",
    "    \n",
    "    df.to_csv(review_result+'.csv')"
   ]
  },
  {
   "cell_type": "markdown",
   "metadata": {},
   "source": [
    "# opt 변환 확인"
   ]
  },
  {
   "cell_type": "code",
   "execution_count": 2,
   "metadata": {},
   "outputs": [],
   "source": [
    "import os\n",
    "import glob\n",
    "import json\n",
    "from func import *\n",
    "import pandas as pd"
   ]
  },
  {
   "cell_type": "code",
   "execution_count": 6,
   "metadata": {},
   "outputs": [],
   "source": [
    "mapping_df = pd.read_csv('./data/brmh_1_mapping_table_respiratory.csv')"
   ]
  },
  {
   "cell_type": "code",
   "execution_count": 7,
   "metadata": {},
   "outputs": [],
   "source": [
    "mapping_cases = mapping_df['case_no'].tolist()\n",
    "mapping_seqs = mapping_df['seq'].tolist()"
   ]
  },
  {
   "cell_type": "code",
   "execution_count": null,
   "metadata": {},
   "outputs": [],
   "source": [
    "mapping_cases[num]==file_name"
   ]
  },
  {
   "cell_type": "code",
   "execution_count": null,
   "metadata": {},
   "outputs": [],
   "source": [
    "for num in mapping_seqs:\n",
    "#     print(num)\n",
    "    data = json_open('./data/cxr_opt_respiratory/u2_u14/without_AI/'+str(num)+'.json')\n",
    "    file_name = data['rel_path'][data['rel_path'].rindex('/')+1:-4]\n",
    "    \n",
    "    if mapping_cases[num-1] != file_name:\n",
    "        print(num, file_name)"
   ]
  },
  {
   "cell_type": "code",
   "execution_count": 22,
   "metadata": {},
   "outputs": [
    {
     "data": {
      "text/plain": [
       "16"
      ]
     },
     "execution_count": 22,
     "metadata": {},
     "output_type": "execute_result"
    }
   ],
   "source": [
    "data['rel_path'].rindex('/')"
   ]
  },
  {
   "cell_type": "code",
   "execution_count": 25,
   "metadata": {},
   "outputs": [
    {
     "data": {
      "text/plain": [
       "'B-A1-2529'"
      ]
     },
     "execution_count": 25,
     "metadata": {},
     "output_type": "execute_result"
    }
   ],
   "source": [
    "data['rel_path'][data['rel_path'].rindex('/')+1:-4]"
   ]
  },
  {
   "cell_type": "code",
   "execution_count": null,
   "metadata": {},
   "outputs": [],
   "source": []
  }
 ],
 "metadata": {
  "kernelspec": {
   "display_name": "Python 3",
   "language": "python",
   "name": "python3"
  },
  "language_info": {
   "codemirror_mode": {
    "name": "ipython",
    "version": 3
   },
   "file_extension": ".py",
   "mimetype": "text/x-python",
   "name": "python",
   "nbconvert_exporter": "python",
   "pygments_lexer": "ipython3",
   "version": "3.6.10"
  }
 },
 "nbformat": 4,
 "nbformat_minor": 4
}
