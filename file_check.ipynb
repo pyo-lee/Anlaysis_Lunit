{
 "cells": [
  {
   "cell_type": "code",
   "execution_count": 2,
   "metadata": {},
   "outputs": [],
   "source": [
    "import numpy as np\n",
    "import os \n",
    "import glob\n",
    "import json\n",
    "from func import *"
   ]
  },
  {
   "cell_type": "code",
   "execution_count": 174,
   "metadata": {},
   "outputs": [],
   "source": [
    "user1 = 'u2'\n",
    "user2 = 'u13'\n",
    "\n",
    "lunit_path = './annotation_repository/'+user2+'/t2'\n",
    "gcubme_path = './data/cxr_opt_respiratory_new/'+user1+'_'+user2+'/with_AI'"
   ]
  },
  {
   "cell_type": "code",
   "execution_count": 175,
   "metadata": {},
   "outputs": [],
   "source": [
    "lunit_file = glob.glob(lunit_path+'/*.json')\n",
    "gcubme_file = glob.glob(gcubme_path+'/*.json')"
   ]
  },
  {
   "cell_type": "code",
   "execution_count": 176,
   "metadata": {},
   "outputs": [],
   "source": [
    "i=15\n",
    "\n",
    "lunit_data = json_open(lunit_file[i])\n",
    "gcubme_data = json_open(gcubme_file[i])"
   ]
  },
  {
   "cell_type": "code",
   "execution_count": 177,
   "metadata": {},
   "outputs": [
    {
     "data": {
      "text/plain": [
       "True"
      ]
     },
     "execution_count": 177,
     "metadata": {},
     "output_type": "execute_result"
    }
   ],
   "source": [
    "lunit_data==gcubme_data"
   ]
  },
  {
   "cell_type": "code",
   "execution_count": 178,
   "metadata": {},
   "outputs": [],
   "source": [
    "for i in range(len(lunit_file)):\n",
    "    lunit_data = json_open(lunit_file[i])\n",
    "    gcubme_data = json_open(gcubme_file[i])\n",
    "    \n",
    "    if lunit_data!=gcubme_data:\n",
    "        print(lunit_file[i])"
   ]
  },
  {
   "cell_type": "code",
   "execution_count": 5,
   "metadata": {},
   "outputs": [],
   "source": [
    "users = []\n",
    "for k in range(2,14):\n",
    "    users.append(['u'+str(k),'u'+str(k+12)])\n",
    "\n",
    "ais =['without_AI','with_AI']\n",
    "for user in users:\n",
    "    user1 = user[0]\n",
    "    user2 = user[1]\n",
    "    \n",
    "    for user_name,ai in zip(user,ais):\n",
    "        lunit_path = './annotation_repository/'+user_name+'/t2'\n",
    "        gcubme_path = './data/cxr_opt_respiratory_new/'+user1+'_'+user2+'/'+ai\n",
    "\n",
    "        lunit_file = glob.glob(lunit_path+'/*.json')\n",
    "        gcubme_file = glob.glob(gcubme_path+'/*.json')\n",
    "\n",
    "        for i in range(len(lunit_file)):\n",
    "            lunit_data = json_open(lunit_file[i])\n",
    "            gcubme_data = json_open(gcubme_file[i])\n",
    "\n",
    "            if lunit_data!=gcubme_data:\n",
    "                print(lunit_file[i])"
   ]
  },
  {
   "cell_type": "code",
   "execution_count": null,
   "metadata": {},
   "outputs": [],
   "source": []
  }
 ],
 "metadata": {
  "kernelspec": {
   "display_name": "Python 3",
   "language": "python",
   "name": "python3"
  },
  "language_info": {
   "codemirror_mode": {
    "name": "ipython",
    "version": 3
   },
   "file_extension": ".py",
   "mimetype": "text/x-python",
   "name": "python",
   "nbconvert_exporter": "python",
   "pygments_lexer": "ipython3",
   "version": "3.6.10"
  }
 },
 "nbformat": 4,
 "nbformat_minor": 4
}
